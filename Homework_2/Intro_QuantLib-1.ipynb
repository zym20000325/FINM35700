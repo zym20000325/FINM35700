{
 "cells": [
  {
   "attachments": {},
   "cell_type": "markdown",
   "metadata": {},
   "source": [
    "# Basic Usage of QuantLib analytics library\n",
    "More details at:\n",
    "https://quantlib-python-docs.readthedocs.io/en/latest/"
   ]
  },
  {
   "cell_type": "code",
   "execution_count": 1,
   "metadata": {
    "ExecuteTime": {
     "end_time": "2020-09-08T22:40:10.673242Z",
     "start_time": "2020-09-08T22:40:10.280272Z"
    }
   },
   "outputs": [],
   "source": [
    "import QuantLib as ql\n",
    "import numpy as np\n",
    "import pandas as pd\n",
    "import datetime as dt"
   ]
  },
  {
   "attachments": {},
   "cell_type": "markdown",
   "metadata": {},
   "source": [
    "## 1. Objects and Handles\n",
    "### Define a quote object and inspect the value."
   ]
  },
  {
   "cell_type": "code",
   "execution_count": 2,
   "metadata": {
    "ExecuteTime": {
     "end_time": "2020-09-08T22:40:10.691095Z",
     "start_time": "2020-09-08T22:40:10.681145Z"
    }
   },
   "outputs": [
    {
     "data": {
      "text/plain": [
       "0.01"
      ]
     },
     "execution_count": 2,
     "metadata": {},
     "output_type": "execute_result"
    }
   ],
   "source": [
    "quote = ql.SimpleQuote(.01)\n",
    "quote.value()"
   ]
  },
  {
   "attachments": {},
   "cell_type": "markdown",
   "metadata": {},
   "source": [
    "### Use setValue() to reset values. Values will be propagated downstream in the dependency tree (using handles/smart pointers)."
   ]
  },
  {
   "cell_type": "code",
   "execution_count": 3,
   "metadata": {
    "ExecuteTime": {
     "end_time": "2020-09-08T22:40:10.699818Z",
     "start_time": "2020-09-08T22:40:10.693324Z"
    }
   },
   "outputs": [
    {
     "data": {
      "text/plain": [
       "0.02"
      ]
     },
     "execution_count": 3,
     "metadata": {},
     "output_type": "execute_result"
    }
   ],
   "source": [
    "quote.setValue(.02)\n",
    "quote.value()"
   ]
  },
  {
   "attachments": {},
   "cell_type": "markdown",
   "metadata": {},
   "source": [
    "### Define quoteHandle as a handle/smart pointer to the quote object."
   ]
  },
  {
   "cell_type": "code",
   "execution_count": 4,
   "metadata": {
    "ExecuteTime": {
     "end_time": "2020-09-08T22:40:10.706852Z",
     "start_time": "2020-09-08T22:40:10.701861Z"
    }
   },
   "outputs": [
    {
     "data": {
      "text/plain": [
       "0.02"
      ]
     },
     "execution_count": 4,
     "metadata": {},
     "output_type": "execute_result"
    }
   ],
   "source": [
    "quoteHandle = ql.QuoteHandle(quote)\n",
    "quoteHandle.value()"
   ]
  },
  {
   "attachments": {},
   "cell_type": "markdown",
   "metadata": {},
   "source": [
    "### When the quote object is changed, the quoteHandle changes value as well."
   ]
  },
  {
   "cell_type": "code",
   "execution_count": 5,
   "metadata": {
    "ExecuteTime": {
     "end_time": "2020-09-08T22:40:10.714410Z",
     "start_time": "2020-09-08T22:40:10.708750Z"
    }
   },
   "outputs": [
    {
     "data": {
      "text/plain": [
       "0.05"
      ]
     },
     "execution_count": 5,
     "metadata": {},
     "output_type": "execute_result"
    }
   ],
   "source": [
    "quote.setValue(0.05)\n",
    "quoteHandle.value()"
   ]
  },
  {
   "attachments": {},
   "cell_type": "markdown",
   "metadata": {},
   "source": [
    "## 2. Cashflow Schedules\n",
    "### Construct a semi-annual fixed rate cashflow schedule object."
   ]
  },
  {
   "cell_type": "code",
   "execution_count": 6,
   "metadata": {
    "ExecuteTime": {
     "end_time": "2020-09-08T22:40:10.734463Z",
     "start_time": "2020-09-08T22:40:10.729637Z"
    }
   },
   "outputs": [],
   "source": [
    "issue_date = ql.Date(17, 12, 2022)\n",
    "maturity_date = ql.Date(17, 12, 2027)\n",
    "coupon_freq = ql.Semiannual\n",
    "coupon_term = ql.Period(coupon_freq)\n",
    "calendar = ql.UnitedStates(ql.UnitedStates.GovernmentBond)\n",
    "day_count_conv = ql.Unadjusted\n",
    "date_generation = ql.DateGeneration.Backward\n",
    "month_end = True\n",
    "schedule = ql.Schedule(issue_date,\n",
    "                       maturity_date,\n",
    "                       coupon_term,\n",
    "                       calendar,\n",
    "                       day_count_conv,\n",
    "                       day_count_conv,\n",
    "                       date_generation,\n",
    "                       month_end)"
   ]
  },
  {
   "cell_type": "code",
   "execution_count": 7,
   "metadata": {},
   "outputs": [
    {
     "data": {
      "text/plain": [
       "Period(\"6M\")"
      ]
     },
     "execution_count": 7,
     "metadata": {},
     "output_type": "execute_result"
    }
   ],
   "source": [
    "coupon_term"
   ]
  },
  {
   "attachments": {},
   "cell_type": "markdown",
   "metadata": {},
   "source": [
    "### Inspect the cashflow schedule\n",
    "- Use list() to get a list of all the dates in Schedule, and len() to get number of dates\n",
    "- Use [] for random access\n",
    "- use startDate(), endDate()"
   ]
  },
  {
   "cell_type": "code",
   "execution_count": 8,
   "metadata": {
    "ExecuteTime": {
     "end_time": "2020-09-08T22:40:10.746174Z",
     "start_time": "2020-09-08T22:40:10.736892Z"
    },
    "tags": []
   },
   "outputs": [
    {
     "name": "stdout",
     "output_type": "stream",
     "text": [
      "All dates:  [Date(17,12,2022), Date(17,6,2023), Date(17,12,2023), Date(17,6,2024), Date(17,12,2024), Date(17,6,2025), Date(17,12,2025), Date(17,6,2026), Date(17,12,2026), Date(17,6,2027), Date(17,12,2027)]\n",
      "Length:  11\n",
      "The 3rd coupon date:  June 17th, 2024\n",
      "Start Date:  December 17th, 2022\n",
      "End Date:  December 17th, 2027\n"
     ]
    }
   ],
   "source": [
    "print(\"All dates: \", list(schedule))\n",
    "print(\"Length: \", len(schedule))\n",
    "print(\"The 3rd coupon date: \", schedule[3])  # random access\n",
    "print(\"Start Date: \", schedule.startDate())\n",
    "print(\"End Date: \", schedule.endDate())"
   ]
  },
  {
   "attachments": {},
   "cell_type": "markdown",
   "metadata": {},
   "source": [
    "## 3. Discount Curve / Yield Curve Term Structure\n",
    "### Constructing a Flat Yield Curve"
   ]
  },
  {
   "cell_type": "code",
   "execution_count": 9,
   "metadata": {
    "ExecuteTime": {
     "end_time": "2020-09-08T22:40:10.752550Z",
     "start_time": "2020-09-08T22:40:10.748534Z"
    }
   },
   "outputs": [],
   "source": [
    "calc_date = ql.Date(14, 4, 2023)\n",
    "ql.Settings.instance().evaluationDate = calc_date\n",
    "\n",
    "# using 5% flat interest rate for testing\n",
    "flat_rate = ql.SimpleQuote(0.05)\n",
    "rate_handle = ql.QuoteHandle(flat_rate)\n",
    "day_count = ql.Actual360()\n",
    "calendar = ql.UnitedStates(ql.UnitedStates.GovernmentBond)\n",
    "continuous_comp = ql.Continuous # continously compounded rate of 5%\n",
    "flat_yield_curve = ql.FlatForward(calc_date, rate_handle, day_count, continuous_comp)\n",
    "flat_yield_curve_handle = ql.YieldTermStructureHandle(flat_yield_curve)"
   ]
  },
  {
   "cell_type": "code",
   "execution_count": 14,
   "metadata": {},
   "outputs": [
    {
     "data": {
      "text/plain": [
       "<QuantLib.QuantLib.FlatForward; proxy of <Swig Object of type 'ext::shared_ptr< FlatForward > *' at 0x7fdfc9d4bf00> >"
      ]
     },
     "execution_count": 14,
     "metadata": {},
     "output_type": "execute_result"
    }
   ],
   "source": [
    "flat_yield_curve"
   ]
  },
  {
   "cell_type": "markdown",
   "metadata": {},
   "source": [
    "### Inspecting the discount curve"
   ]
  },
  {
   "cell_type": "code",
   "execution_count": 10,
   "metadata": {
    "ExecuteTime": {
     "end_time": "2020-09-08T22:40:10.770911Z",
     "start_time": "2020-09-08T22:40:10.754832Z"
    },
    "tags": []
   },
   "outputs": [
    {
     "name": "stdout",
     "output_type": "stream",
     "text": [
      "Reference Date = April 14th, 2023\n",
      "Test Date = December 31st, 2023\n",
      "Year Fraction between Reference Date and Test Date :  0.725\n",
      "Discount Factor for Test Date December 31st, 2023 :  0.9643991635522495\n",
      "Manual DF calculation for Test Date December 31st, 2023 :  0.9643991635522495\n",
      "Difference in Discount Factor: 0.0\n"
     ]
    }
   ],
   "source": [
    "ref_date = flat_yield_curve.referenceDate()\n",
    "test_date = ql.Date(31, 12, 2023)\n",
    "\n",
    "# calc year fraction between ref_date and test_date\n",
    "yearFrac = flat_yield_curve.dayCounter().yearFraction(ref_date, test_date)\n",
    "\n",
    "print(\"Reference Date =\", ref_date)\n",
    "print(\"Test Date =\", test_date)\n",
    "print(\"Year Fraction between Reference Date and Test Date : \", yearFrac)\n",
    "print(\"Discount Factor for Test Date\", test_date, \": \", flat_yield_curve.discount(test_date))\n",
    "print(\"Manual DF calculation for Test Date\", test_date, \": \", np.exp(-flat_rate.value() * yearFrac))\n",
    "print(\"Difference in Discount Factor:\", flat_yield_curve.discount(test_date) - np.exp(-flat_rate.value() * yearFrac))\n",
    "\n"
   ]
  },
  {
   "attachments": {},
   "cell_type": "markdown",
   "metadata": {},
   "source": [
    "## 4. Fixed Rate Bonds\n",
    "### Constructing a bond object"
   ]
  },
  {
   "cell_type": "code",
   "execution_count": 11,
   "metadata": {
    "ExecuteTime": {
     "end_time": "2020-09-08T22:40:10.778286Z",
     "start_time": "2020-09-08T22:40:10.773359Z"
    }
   },
   "outputs": [],
   "source": [
    "coupon_rate = 0.04\n",
    "day_count = ql.Thirty360(ql.Thirty360.USA)\n",
    "coupons = [coupon_rate]\n",
    "payment_convention = ql.Unadjusted\n",
    "\n",
    "# Construct the FixedRateBond\n",
    "settlement_days = 1\n",
    "face_value = 100\n",
    "fixed_rate_bond = ql.FixedRateBond(\n",
    "    settlement_days,\n",
    "    face_value,\n",
    "    schedule,\n",
    "    coupons,\n",
    "    day_count,\n",
    "    payment_convention)"
   ]
  },
  {
   "attachments": {},
   "cell_type": "markdown",
   "metadata": {},
   "source": [
    "### Investigate Bond Cashflows"
   ]
  },
  {
   "cell_type": "code",
   "execution_count": 12,
   "metadata": {},
   "outputs": [
    {
     "name": "stdout",
     "output_type": "stream",
     "text": [
      "2.0000000000000018\n",
      "2.0000000000000018\n",
      "2.0000000000000018\n",
      "2.0000000000000018\n",
      "2.0000000000000018\n",
      "2.0000000000000018\n",
      "2.0000000000000018\n",
      "2.0000000000000018\n",
      "2.0000000000000018\n",
      "2.0000000000000018\n",
      "100.0\n"
     ]
    }
   ],
   "source": [
    "for cf in fixed_rate_bond.cashflows():\n",
    "\n",
    "    print(cf.amount())"
   ]
  },
  {
   "cell_type": "code",
   "execution_count": 13,
   "metadata": {
    "ExecuteTime": {
     "end_time": "2020-09-08T22:40:10.792630Z",
     "start_time": "2020-09-08T22:40:10.780398Z"
    },
    "tags": []
   },
   "outputs": [
    {
     "name": "stdout",
     "output_type": "stream",
     "text": [
      "           CashFlowDate  CashFlowAmount\n",
      "0       June 17th, 2023             2.0\n",
      "1   December 17th, 2023             2.0\n",
      "2       June 17th, 2024             2.0\n",
      "3   December 17th, 2024             2.0\n",
      "4       June 17th, 2025             2.0\n",
      "5   December 17th, 2025             2.0\n",
      "6       June 17th, 2026             2.0\n",
      "7   December 17th, 2026             2.0\n",
      "8       June 17th, 2027             2.0\n",
      "9   December 17th, 2027             2.0\n",
      "10  December 17th, 2027           100.0\n"
     ]
    }
   ],
   "source": [
    "x = [(cf.date(), cf.amount()) for cf in fixed_rate_bond.cashflows()]\n",
    "cf_date, cf_amount = zip(*x)\n",
    "cf_frame = pd.DataFrame(data={'CashFlowDate': cf_date, 'CashFlowAmount': cf_amount})\n",
    "print(cf_frame)"
   ]
  },
  {
   "attachments": {},
   "cell_type": "markdown",
   "metadata": {},
   "source": [
    "## 5. Present Value Calculation (no credit risk)\n",
    "### Direct function call using risk-free bond pricing engine"
   ]
  },
  {
   "cell_type": "code",
   "execution_count": 28,
   "metadata": {
    "ExecuteTime": {
     "end_time": "2020-09-08T22:40:10.802696Z",
     "start_time": "2020-09-08T22:40:10.795608Z"
    }
   },
   "outputs": [
    {
     "data": {
      "text/plain": [
       "96.61211292221057"
      ]
     },
     "execution_count": 28,
     "metadata": {},
     "output_type": "execute_result"
    }
   ],
   "source": [
    "bond_engine = ql.DiscountingBondEngine(flat_yield_curve_handle)\n",
    "fixed_rate_bond.setPricingEngine(bond_engine)\n",
    "pv_engine = fixed_rate_bond.NPV()\n",
    "pv_engine"
   ]
  },
  {
   "cell_type": "code",
   "execution_count": 29,
   "metadata": {},
   "outputs": [
    {
     "data": {
      "text/html": [
       "<div>\n",
       "<style scoped>\n",
       "    .dataframe tbody tr th:only-of-type {\n",
       "        vertical-align: middle;\n",
       "    }\n",
       "\n",
       "    .dataframe tbody tr th {\n",
       "        vertical-align: top;\n",
       "    }\n",
       "\n",
       "    .dataframe thead th {\n",
       "        text-align: right;\n",
       "    }\n",
       "</style>\n",
       "<table border=\"1\" class=\"dataframe\">\n",
       "  <thead>\n",
       "    <tr style=\"text-align: right;\">\n",
       "      <th></th>\n",
       "      <th>CashFlowDate</th>\n",
       "      <th>CashFlowAmount</th>\n",
       "    </tr>\n",
       "  </thead>\n",
       "  <tbody>\n",
       "    <tr>\n",
       "      <th>0</th>\n",
       "      <td>June 17th, 2023</td>\n",
       "      <td>2.0</td>\n",
       "    </tr>\n",
       "    <tr>\n",
       "      <th>1</th>\n",
       "      <td>December 17th, 2023</td>\n",
       "      <td>2.0</td>\n",
       "    </tr>\n",
       "    <tr>\n",
       "      <th>2</th>\n",
       "      <td>June 17th, 2024</td>\n",
       "      <td>2.0</td>\n",
       "    </tr>\n",
       "    <tr>\n",
       "      <th>3</th>\n",
       "      <td>December 17th, 2024</td>\n",
       "      <td>2.0</td>\n",
       "    </tr>\n",
       "    <tr>\n",
       "      <th>4</th>\n",
       "      <td>June 17th, 2025</td>\n",
       "      <td>2.0</td>\n",
       "    </tr>\n",
       "    <tr>\n",
       "      <th>5</th>\n",
       "      <td>December 17th, 2025</td>\n",
       "      <td>2.0</td>\n",
       "    </tr>\n",
       "    <tr>\n",
       "      <th>6</th>\n",
       "      <td>June 17th, 2026</td>\n",
       "      <td>2.0</td>\n",
       "    </tr>\n",
       "    <tr>\n",
       "      <th>7</th>\n",
       "      <td>December 17th, 2026</td>\n",
       "      <td>2.0</td>\n",
       "    </tr>\n",
       "    <tr>\n",
       "      <th>8</th>\n",
       "      <td>June 17th, 2027</td>\n",
       "      <td>2.0</td>\n",
       "    </tr>\n",
       "    <tr>\n",
       "      <th>9</th>\n",
       "      <td>December 17th, 2027</td>\n",
       "      <td>2.0</td>\n",
       "    </tr>\n",
       "    <tr>\n",
       "      <th>10</th>\n",
       "      <td>December 17th, 2027</td>\n",
       "      <td>100.0</td>\n",
       "    </tr>\n",
       "  </tbody>\n",
       "</table>\n",
       "</div>"
      ],
      "text/plain": [
       "           CashFlowDate  CashFlowAmount\n",
       "0       June 17th, 2023             2.0\n",
       "1   December 17th, 2023             2.0\n",
       "2       June 17th, 2024             2.0\n",
       "3   December 17th, 2024             2.0\n",
       "4       June 17th, 2025             2.0\n",
       "5   December 17th, 2025             2.0\n",
       "6       June 17th, 2026             2.0\n",
       "7   December 17th, 2026             2.0\n",
       "8       June 17th, 2027             2.0\n",
       "9   December 17th, 2027             2.0\n",
       "10  December 17th, 2027           100.0"
      ]
     },
     "execution_count": 29,
     "metadata": {},
     "output_type": "execute_result"
    }
   ],
   "source": [
    "cf_frame"
   ]
  },
  {
   "attachments": {},
   "cell_type": "markdown",
   "metadata": {},
   "source": [
    "### Manual Calculation to verify PV"
   ]
  },
  {
   "cell_type": "code",
   "execution_count": 30,
   "metadata": {
    "ExecuteTime": {
     "end_time": "2020-09-08T22:40:10.829120Z",
     "start_time": "2020-09-08T22:40:10.804649Z"
    },
    "tags": []
   },
   "outputs": [
    {
     "name": "stdout",
     "output_type": "stream",
     "text": [
      "           CashFlowDate  CashFlowAmount\n",
      "0       June 17th, 2023             2.0\n",
      "1   December 17th, 2023             2.0\n",
      "2       June 17th, 2024             2.0\n",
      "3   December 17th, 2024             2.0\n",
      "4       June 17th, 2025             2.0\n",
      "5   December 17th, 2025             2.0\n",
      "6       June 17th, 2026             2.0\n",
      "7   December 17th, 2026             2.0\n",
      "8       June 17th, 2027             2.0\n",
      "9   December 17th, 2027             2.0\n",
      "10  December 17th, 2027           100.0\n",
      "           CashFlowDate  CashFlowAmount\n",
      "0       June 17th, 2023             2.0\n",
      "1   December 17th, 2023             2.0\n",
      "2       June 17th, 2024             2.0\n",
      "3   December 17th, 2024             2.0\n",
      "4       June 17th, 2025             2.0\n",
      "5   December 17th, 2025             2.0\n",
      "6       June 17th, 2026             2.0\n",
      "7   December 17th, 2026             2.0\n",
      "8       June 17th, 2027             2.0\n",
      "9   December 17th, 2027             2.0\n",
      "10  December 17th, 2027           100.0\n"
     ]
    },
    {
     "data": {
      "text/html": [
       "<div>\n",
       "<style scoped>\n",
       "    .dataframe tbody tr th:only-of-type {\n",
       "        vertical-align: middle;\n",
       "    }\n",
       "\n",
       "    .dataframe tbody tr th {\n",
       "        vertical-align: top;\n",
       "    }\n",
       "\n",
       "    .dataframe thead th {\n",
       "        text-align: right;\n",
       "    }\n",
       "</style>\n",
       "<table border=\"1\" class=\"dataframe\">\n",
       "  <thead>\n",
       "    <tr style=\"text-align: right;\">\n",
       "      <th></th>\n",
       "      <th>CashFlowDate</th>\n",
       "      <th>CashFlowAmount</th>\n",
       "      <th>YearFrac</th>\n",
       "      <th>DiscountFactor</th>\n",
       "      <th>NPV</th>\n",
       "    </tr>\n",
       "  </thead>\n",
       "  <tbody>\n",
       "    <tr>\n",
       "      <th>0</th>\n",
       "      <td>June 17th, 2023</td>\n",
       "      <td>2.0</td>\n",
       "      <td>0.177778</td>\n",
       "      <td>0.991151</td>\n",
       "      <td>1.982301</td>\n",
       "    </tr>\n",
       "    <tr>\n",
       "      <th>1</th>\n",
       "      <td>December 17th, 2023</td>\n",
       "      <td>2.0</td>\n",
       "      <td>0.686111</td>\n",
       "      <td>0.966276</td>\n",
       "      <td>1.932552</td>\n",
       "    </tr>\n",
       "    <tr>\n",
       "      <th>2</th>\n",
       "      <td>June 17th, 2024</td>\n",
       "      <td>2.0</td>\n",
       "      <td>1.194444</td>\n",
       "      <td>0.942026</td>\n",
       "      <td>1.884052</td>\n",
       "    </tr>\n",
       "    <tr>\n",
       "      <th>3</th>\n",
       "      <td>December 17th, 2024</td>\n",
       "      <td>2.0</td>\n",
       "      <td>1.702778</td>\n",
       "      <td>0.918385</td>\n",
       "      <td>1.836769</td>\n",
       "    </tr>\n",
       "    <tr>\n",
       "      <th>4</th>\n",
       "      <td>June 17th, 2025</td>\n",
       "      <td>2.0</td>\n",
       "      <td>2.208333</td>\n",
       "      <td>0.895461</td>\n",
       "      <td>1.790922</td>\n",
       "    </tr>\n",
       "    <tr>\n",
       "      <th>5</th>\n",
       "      <td>December 17th, 2025</td>\n",
       "      <td>2.0</td>\n",
       "      <td>2.716667</td>\n",
       "      <td>0.872988</td>\n",
       "      <td>1.745976</td>\n",
       "    </tr>\n",
       "    <tr>\n",
       "      <th>6</th>\n",
       "      <td>June 17th, 2026</td>\n",
       "      <td>2.0</td>\n",
       "      <td>3.222222</td>\n",
       "      <td>0.851197</td>\n",
       "      <td>1.702395</td>\n",
       "    </tr>\n",
       "    <tr>\n",
       "      <th>7</th>\n",
       "      <td>December 17th, 2026</td>\n",
       "      <td>2.0</td>\n",
       "      <td>3.730556</td>\n",
       "      <td>0.829836</td>\n",
       "      <td>1.659671</td>\n",
       "    </tr>\n",
       "    <tr>\n",
       "      <th>8</th>\n",
       "      <td>June 17th, 2027</td>\n",
       "      <td>2.0</td>\n",
       "      <td>4.236111</td>\n",
       "      <td>0.809122</td>\n",
       "      <td>1.618244</td>\n",
       "    </tr>\n",
       "    <tr>\n",
       "      <th>9</th>\n",
       "      <td>December 17th, 2027</td>\n",
       "      <td>2.0</td>\n",
       "      <td>4.744444</td>\n",
       "      <td>0.788816</td>\n",
       "      <td>1.577632</td>\n",
       "    </tr>\n",
       "    <tr>\n",
       "      <th>10</th>\n",
       "      <td>December 17th, 2027</td>\n",
       "      <td>100.0</td>\n",
       "      <td>4.744444</td>\n",
       "      <td>0.788816</td>\n",
       "      <td>78.881598</td>\n",
       "    </tr>\n",
       "  </tbody>\n",
       "</table>\n",
       "</div>"
      ],
      "text/plain": [
       "           CashFlowDate  CashFlowAmount  YearFrac  DiscountFactor        NPV\n",
       "0       June 17th, 2023             2.0  0.177778        0.991151   1.982301\n",
       "1   December 17th, 2023             2.0  0.686111        0.966276   1.932552\n",
       "2       June 17th, 2024             2.0  1.194444        0.942026   1.884052\n",
       "3   December 17th, 2024             2.0  1.702778        0.918385   1.836769\n",
       "4       June 17th, 2025             2.0  2.208333        0.895461   1.790922\n",
       "5   December 17th, 2025             2.0  2.716667        0.872988   1.745976\n",
       "6       June 17th, 2026             2.0  3.222222        0.851197   1.702395\n",
       "7   December 17th, 2026             2.0  3.730556        0.829836   1.659671\n",
       "8       June 17th, 2027             2.0  4.236111        0.809122   1.618244\n",
       "9   December 17th, 2027             2.0  4.744444        0.788816   1.577632\n",
       "10  December 17th, 2027           100.0  4.744444        0.788816  78.881598"
      ]
     },
     "execution_count": 30,
     "metadata": {},
     "output_type": "execute_result"
    }
   ],
   "source": [
    "calc_frame = cf_frame\n",
    "discount_yearfrac = np.zeros((len(calc_frame,)))\n",
    "discount_factor = np.zeros((len(calc_frame,)))\n",
    "\n",
    "print(calc_frame)\n",
    "\n",
    "i = 0\n",
    "for cf_date in calc_frame['CashFlowDate']:\n",
    "    discount_yearfrac[i] = flat_yield_curve.dayCounter().yearFraction(flat_yield_curve.referenceDate(), cf_date)\n",
    "    discount_factor[i] = flat_yield_curve.discount(cf_date)\n",
    "    i += 1\n",
    "\n",
    "print(calc_frame)\n",
    "\n",
    "calc_frame['YearFrac'] = discount_yearfrac\n",
    "calc_frame['DiscountFactor'] = discount_factor\n",
    "calc_frame['NPV'] = calc_frame['CashFlowAmount'] * calc_frame['DiscountFactor']\n",
    "\n",
    "calc_frame"
   ]
  },
  {
   "cell_type": "code",
   "execution_count": 31,
   "metadata": {
    "ExecuteTime": {
     "end_time": "2020-09-08T22:40:10.836542Z",
     "start_time": "2020-09-08T22:40:10.831179Z"
    },
    "tags": []
   },
   "outputs": [
    {
     "name": "stdout",
     "output_type": "stream",
     "text": [
      "NPV_Engine =  96.61211292221057\n",
      "NPV_Manual =  96.61211292221057\n",
      "NPV diff =  0.0\n"
     ]
    }
   ],
   "source": [
    "pv_manual = calc_frame['NPV'].sum()\n",
    "print('NPV_Engine = ', pv_engine)\n",
    "print('NPV_Manual = ', pv_manual)\n",
    "print('NPV diff = ', pv_manual - pv_engine)"
   ]
  },
  {
   "attachments": {},
   "cell_type": "markdown",
   "metadata": {},
   "source": [
    "### Bond Clean vs Dirty Prices"
   ]
  },
  {
   "cell_type": "code",
   "execution_count": 32,
   "metadata": {},
   "outputs": [
    {
     "name": "stdout",
     "output_type": "stream",
     "text": [
      "Bond Notional =  100.0\n",
      "Settle Date =  April 17th, 2023\n",
      "Discount Factor to Settle Date =  0.9995834201268338\n",
      "Bond NPV (Calc Date) =  96.61211292221057\n",
      "Bond Adjusted NPV (Settle Date) =  96.65237635689454\n",
      "Bond Dirty Price =  96.65237635689454\n",
      "Bond Clean Price =  95.31904302356119\n",
      "Bond Accrued =  1.333333333333342\n"
     ]
    }
   ],
   "source": [
    "print('Bond Notional = ', fixed_rate_bond.notional())\n",
    "print('Settle Date = ', fixed_rate_bond.settlementDate())\n",
    "print('Discount Factor to Settle Date = ', flat_yield_curve_handle.discount(fixed_rate_bond.settlementDate()))\n",
    "print('Bond NPV (Calc Date) = ', fixed_rate_bond.NPV())\n",
    "print('Bond Adjusted NPV (Settle Date) = ', fixed_rate_bond.NPV() / flat_yield_curve_handle.discount(fixed_rate_bond.settlementDate()))\n",
    "print('Bond Dirty Price = ', fixed_rate_bond.dirtyPrice())\n",
    "print('Bond Clean Price = ', fixed_rate_bond.cleanPrice())\n",
    "print('Bond Accrued = ', fixed_rate_bond.accruedAmount())\n"
   ]
  },
  {
   "attachments": {},
   "cell_type": "markdown",
   "metadata": {},
   "source": [
    "## 6. Market Data Scenarios\n",
    "### Parallel Shift in Interest Rates Curve (can be used to compute IR01/DV01 and convexity)"
   ]
  },
  {
   "cell_type": "code",
   "execution_count": null,
   "metadata": {
    "ExecuteTime": {
     "end_time": "2020-09-08T22:40:10.940966Z",
     "start_time": "2020-09-08T22:39:56.714Z"
    },
    "tags": []
   },
   "outputs": [
    {
     "name": "stdout",
     "output_type": "stream",
     "text": [
      "PV for spread = 0:  96.59009015976352\n",
      "PV for spread = +10bps:  96.1750271857446\n",
      "PV for spread = -10bps:  97.00706466080435\n"
     ]
    }
   ],
   "source": [
    "# start with interest_rate_bump = 0\n",
    "interest_rate_bump = ql.SimpleQuote(0.0)\n",
    "flat_yield_curve_bumped = ql.ZeroSpreadedTermStructure(flat_yield_curve_handle, ql.QuoteHandle(interest_rate_bump))\n",
    "\n",
    "bond_engine = ql.DiscountingBondEngine(ql.YieldTermStructureHandle(flat_yield_curve_bumped))\n",
    "fixed_rate_bond.setPricingEngine(bond_engine)\n",
    "\n",
    "# Original price (zero interest rate bump)\n",
    "print(\"PV for spread = 0: \", fixed_rate_bond.NPV())\n",
    "\n",
    "# New price for +10bps interest rate  bump\n",
    "interest_rate_bump.setValue(0.0010)\n",
    "print(\"PV for spread = +10bps: \", fixed_rate_bond.NPV())\n",
    "\n",
    "# New price for -10bps interest rate  bump\n",
    "interest_rate_bump.setValue(-0.0010)\n",
    "print(\"PV for spread = -10bps: \", fixed_rate_bond.NPV())\n",
    "\n",
    "interest_rate_bump.setValue(0)"
   ]
  },
  {
   "attachments": {},
   "cell_type": "markdown",
   "metadata": {},
   "source": [
    "## 7. Yield to Price conversions\n"
   ]
  },
  {
   "cell_type": "code",
   "execution_count": null,
   "metadata": {},
   "outputs": [
    {
     "name": "stdout",
     "output_type": "stream",
     "text": [
      "Bond PV for 5.0 pct yield: 96.59009015976352\n",
      "Bond PV for 6.0 pct yield: 92.5240234751331\n"
     ]
    }
   ],
   "source": [
    "# Use original interest rate yield of 5%\n",
    "# flat_rate.setValue(0.05)\n",
    "print('Bond PV for', flat_rate.value()*100, 'pct yield:', fixed_rate_bond.NPV())\n",
    "\n",
    "\n",
    "# Change interest rate yield to 6% and recompute bond PV\n",
    "flat_rate.setValue(0.06)\n",
    "print('Bond PV for', flat_rate.value()*100, 'pct yield:', fixed_rate_bond.NPV())\n",
    "\n",
    "# Set interest rate yield back to 5%\n",
    "flat_rate.setValue(0.05)"
   ]
  },
  {
   "attachments": {},
   "cell_type": "markdown",
   "metadata": {},
   "source": [
    "## 8. Price to Yield conversions\n"
   ]
  },
  {
   "cell_type": "code",
   "execution_count": null,
   "metadata": {},
   "outputs": [
    {
     "name": "stdout",
     "output_type": "stream",
     "text": [
      "day_counter = 30/360 (US) day counter\n",
      "coupon_freq = 2\n",
      "calc_date = April 14th, 2023\n",
      "settle_date = April 17th, 2023\n",
      "implied_yield = 5.219710350036621\n"
     ]
    }
   ],
   "source": [
    "# bond_market_price = fixed_rate_bond.cleanPrice()\n",
    "bond_market_price = 95.00   # Clean market price\n",
    "\n",
    "compounding = ql.Compounded\n",
    "# compounding = ql.Continuous\n",
    "\n",
    "settle_date = fixed_rate_bond.settlementDate(calc_date)\n",
    "day_counter = fixed_rate_bond.dayCounter()\n",
    "\n",
    "print('day_counter =', day_counter)\n",
    "print('coupon_freq =', coupon_freq)\n",
    "print('calc_date =', calc_date)\n",
    "print('settle_date =', settle_date)\n",
    "\n",
    "\n",
    "implied_yield = fixed_rate_bond.bondYield(bond_market_price, day_counter, compounding, coupon_freq, settle_date) * 100\n",
    "print('implied_yield =', implied_yield)"
   ]
  },
  {
   "attachments": {},
   "cell_type": "markdown",
   "metadata": {},
   "source": [
    "## 9. Duration, Convexity and Z-Spread (flat yield model)"
   ]
  },
  {
   "cell_type": "code",
   "execution_count": null,
   "metadata": {},
   "outputs": [
    {
     "name": "stdout",
     "output_type": "stream",
     "text": [
      "Bond Duration = 4.133759633020641\n",
      "Bond Convexity = 20.24645403219985\n",
      "Bond Z-Spread bps = 7.9\n"
     ]
    }
   ],
   "source": [
    "# flat_int_rate\n",
    "flat_int_rate = ql.InterestRate(flat_rate.value(), day_count, compounding, coupon_freq)\n",
    "\n",
    "# Calc Duration and Convexity\n",
    "bond_duration = ql.BondFunctions.duration(fixed_rate_bond, flat_int_rate)\n",
    "bond_convexity = ql.BondFunctions.convexity(fixed_rate_bond, flat_int_rate)\n",
    "\n",
    "# Calc z-spread for a given market price\n",
    "bond_market_price = 95.00   # Clean market price\n",
    "bond_zspread = ql.BondFunctions.zSpread(fixed_rate_bond, bond_market_price, flat_yield_curve, day_count, compounding, coupon_freq, settle_date)\n",
    "\n",
    "# Print results\n",
    "print('Bond Duration =', bond_duration)\n",
    "print('Bond Convexity =', bond_convexity)\n",
    "print('Bond Z-Spread bps =', round(bond_zspread * 10000, 2))\n"
   ]
  },
  {
   "cell_type": "code",
   "execution_count": null,
   "metadata": {},
   "outputs": [],
   "source": [
    "def calc_clean_price_with_zspread(fixed_rate_bond, yield_curve_handle, zspread):\n",
    "    zspread_quote = ql.SimpleQuote(zspread)\n",
    "    zspread_quote_handle = ql.QuoteHandle(zspread_quote)\n",
    "    yield_curve_bumped = ql.ZeroSpreadedTermStructure(yield_curve_handle, zspread_quote_handle, ql.Compounded, ql.Semiannual)\n",
    "    yield_curve_bumped_handle = ql.YieldTermStructureHandle(yield_curve_bumped)\n",
    "    \n",
    "    # Set Valuation engine\n",
    "    bond_engine = ql.DiscountingBondEngine(yield_curve_bumped_handle)\n",
    "    fixed_rate_bond.setPricingEngine(bond_engine)\n",
    "    bond_clean_price = fixed_rate_bond.cleanPrice()\n",
    "    return bond_clean_price\n"
   ]
  },
  {
   "cell_type": "code",
   "execution_count": null,
   "metadata": {},
   "outputs": [
    {
     "name": "stdout",
     "output_type": "stream",
     "text": [
      "Bond Z-Spread bps = 7.9\n",
      "bond_market_price = 95.0\n",
      "bond_zspread_price = 95.00000000000034\n",
      "bond price diff = 3.410605131648481e-13\n"
     ]
    }
   ],
   "source": [
    "# Compare the original and the z-spread computed clean prices\n",
    "bond_zspread_price = calc_clean_price_with_zspread(fixed_rate_bond, flat_yield_curve_handle, bond_zspread)\n",
    "\n",
    "print('Bond Z-Spread bps =', round(bond_zspread * 10000, 2))\n",
    "print('bond_market_price =', bond_market_price)\n",
    "print('bond_zspread_price =', bond_zspread_price)\n",
    "print('bond price diff =', bond_zspread_price - bond_market_price)"
   ]
  },
  {
   "attachments": {},
   "cell_type": "markdown",
   "metadata": {},
   "source": [
    "## 10. Fixed rate bond helpers (needed for yield curve calibration)\n"
   ]
  },
  {
   "cell_type": "code",
   "execution_count": null,
   "metadata": {},
   "outputs": [
    {
     "name": "stdout",
     "output_type": "stream",
     "text": [
      "<QuantLib.QuantLib.BondHelper; proxy of <Swig Object of type 'ext::shared_ptr< BondHelper > *' at 0x000002078AD3C990> >\n"
     ]
    }
   ],
   "source": [
    "# clean price quote\n",
    "tsy_clean_price_quote = 95.0\n",
    "tsy_clean_price_handle = ql.QuoteHandle(ql.SimpleQuote(tsy_clean_price_quote))\n",
    "\n",
    "# Create BondHelper object\n",
    "bond_helper = ql.BondHelper(\n",
    "    tsy_clean_price_handle,\n",
    "    fixed_rate_bond)\n",
    "\n",
    "print(bond_helper)"
   ]
  }
 ],
 "metadata": {
  "jupytext": {
   "formats": "ipynb,py:light"
  },
  "kernelspec": {
   "display_name": "Python 3",
   "language": "python",
   "name": "python3"
  },
  "language_info": {
   "codemirror_mode": {
    "name": "ipython",
    "version": 3
   },
   "file_extension": ".py",
   "mimetype": "text/x-python",
   "name": "python",
   "nbconvert_exporter": "python",
   "pygments_lexer": "ipython3",
   "version": "3.10.8"
  },
  "toc": {
   "base_numbering": 1,
   "nav_menu": {},
   "number_sections": true,
   "sideBar": true,
   "skip_h1_title": false,
   "title_cell": "Table of Contents",
   "title_sidebar": "Contents",
   "toc_cell": false,
   "toc_position": {},
   "toc_section_display": true,
   "toc_window_display": true
  }
 },
 "nbformat": 4,
 "nbformat_minor": 2
}
